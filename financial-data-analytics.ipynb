{
 "cells": [
  {
   "cell_type": "markdown",
   "metadata": {},
   "source": [
    "# Financial data analytics"
   ]
  },
  {
   "cell_type": "markdown",
   "metadata": {},
   "source": [
    "In this section you will be challenged with a couple of analytical questions about the data. There might be no single correct answer to some of the questions, feel free to provide solutions which make the most sense to you. We know that you might not have the time to provide solutions to all the questions: try to finalize at least 3 of them and focus on the quality of your answers."
   ]
  },
  {
   "cell_type": "markdown",
   "metadata": {},
   "source": [
    "The objective is to implement the solutions using Python and we would be most happy if you adopt PySpark for at least some of the exercises. However, you can pick the programming language of your choice."
   ]
  },
  {
   "cell_type": "markdown",
   "metadata": {},
   "source": [
    "<img src = \"img/EntityRelation.png\"></src>"
   ]
  },
  {
   "cell_type": "code",
   "execution_count": 1322,
   "metadata": {},
   "outputs": [],
   "source": [
    "from pyspark.sql import SparkSession\n",
    "from pyspark.sql.types import DateType\n",
    "from pyspark.sql.types import DoubleType\n",
    "from pyspark.sql.functions import when, lit\n",
    "from pyspark.sql.functions import col, udf\n",
    "\n",
    "from pyspark.ml.feature import MinMaxScaler\n",
    "from pyspark.ml.feature import VectorAssembler\n",
    "from pyspark.ml import Pipeline\n",
    "\n",
    "import matplotlib.pyplot as plt\n",
    "import matplotlib.ticker as mticker\n",
    "\n",
    "from datetime import datetime\n",
    "\n",
    "import numpy as np\n",
    "\n",
    "from sklearn.linear_model import LinearRegression\n",
    "from sklearn.model_selection import cross_val_score\n",
    "from sklearn.ensemble import AdaBoostClassifier\n",
    "from sklearn.model_selection import GridSearchCV\n",
    "from sklearn import tree\n",
    "from sklearn.model_selection import train_test_split\n",
    "import sklearn.metrics as metrics\n",
    "from sklearn.neighbors import KNeighborsClassifier\n",
    "from sklearn.linear_model import LogisticRegression\n",
    "\n",
    "import statsmodels.api as sm\n",
    "\n",
    "import os"
   ]
  },
  {
   "cell_type": "code",
   "execution_count": 1323,
   "metadata": {},
   "outputs": [],
   "source": [
    "ss = SparkSession.builder.appName(\"Scigility Test Challenge\").getOrCreate()"
   ]
  },
  {
   "cell_type": "markdown",
   "metadata": {},
   "source": [
    "## Preprocessing"
   ]
  },
  {
   "cell_type": "markdown",
   "metadata": {},
   "source": [
    "<font color=\"green\">In this part I work on loading the data, casting them in the correct format and removing unusable ones.</font>"
   ]
  },
  {
   "cell_type": "code",
   "execution_count": 1324,
   "metadata": {},
   "outputs": [],
   "source": [
    "df_trans = ss.read.csv(\"data/trans.csv\",sep=';', inferSchema=False, header=True)"
   ]
  },
  {
   "cell_type": "code",
   "execution_count": 1325,
   "metadata": {},
   "outputs": [],
   "source": [
    "@udf\n",
    "def convertDate(x):\n",
    "    try:\n",
    "        cv_date = datetime.strptime(x, '%Y-%m-%d')\n",
    "    except:\n",
    "        cv_date = \"error\"\n",
    "    return cv_date"
   ]
  },
  {
   "cell_type": "code",
   "execution_count": 1326,
   "metadata": {},
   "outputs": [],
   "source": [
    "df_trans_cast = df_trans.withColumn(\"date_2\", convertDate(\"date\"))"
   ]
  },
  {
   "cell_type": "code",
   "execution_count": 1327,
   "metadata": {
    "scrolled": true
   },
   "outputs": [
    {
     "data": {
      "text/plain": [
       "3141"
      ]
     },
     "execution_count": 1327,
     "metadata": {},
     "output_type": "execute_result"
    }
   ],
   "source": [
    "df_trans_cast.filter(col(\"date_2\")==\"error\").count()"
   ]
  },
  {
   "cell_type": "markdown",
   "metadata": {},
   "source": [
    "<font color=\"green\">I choose to remove wrong data format (we can easily find again the wrong records).\n",
    "\n",
    "For the dates records, I will work with String only for a better display.</font>"
   ]
  },
  {
   "cell_type": "code",
   "execution_count": 1328,
   "metadata": {},
   "outputs": [],
   "source": [
    "df_trans_clean = df_trans_cast.filter(col(\"date_2\")!=\"error\")"
   ]
  },
  {
   "cell_type": "code",
   "execution_count": 1329,
   "metadata": {},
   "outputs": [],
   "source": [
    "df_trans_cast = df_trans_clean \\\n",
    "    .withColumn(\"trans_id\", df_trans_clean[\"trans_id\"].cast(\"int\")) \\\n",
    "    .withColumn(\"account_id\", df_trans_clean[\"account_id\"].cast(\"int\")) \\\n",
    "    .withColumn(\"amount\", df_trans_clean[\"amount\"].cast(\"int\")) \\\n",
    "    .withColumn(\"balance\", df_trans_clean[\"balance\"].cast(\"int\")) \\\n",
    "    .withColumn(\"account\", df_trans_clean[\"account\"].cast(\"int\")) \\\n",
    "    .drop(\"date_2\")"
   ]
  },
  {
   "cell_type": "code",
   "execution_count": 1330,
   "metadata": {},
   "outputs": [
    {
     "name": "stdout",
     "output_type": "stream",
     "text": [
      "+--------+----------+----------+------+---------+------+-------+--------+------+----+-------+\n",
      "|trans_id|account_id|      date|  type|operation|amount|balance|k_symbol|branch|bank|account|\n",
      "+--------+----------+----------+------+---------+------+-------+--------+------+----+-------+\n",
      "|  967842|      1532|1998-05-31|PRIJEM|     null|   253|  62661|    UROK|    AR|null|      0|\n",
      "|  271012|      1499|1998-01-09|PRIJEM|    VKLAD|  5500|  49790|    null|    AR|null|      0|\n",
      "|  971490|      1645|1996-11-30|PRIJEM|     null|    43|  19460|    UROK|    AR|null|      0|\n",
      "|  605699|      3366|1996-10-28| VYDAJ|    VYBER|  9300|  38433|    null|    AR|null|      0|\n",
      "|  443107|      2471|1998-07-30| VYDAJ|    VYBER|  7800|  56237|    null|    AR|null|      0|\n",
      "+--------+----------+----------+------+---------+------+-------+--------+------+----+-------+\n",
      "only showing top 5 rows\n",
      "\n"
     ]
    }
   ],
   "source": [
    "df_trans_cast.show(5)"
   ]
  },
  {
   "cell_type": "code",
   "execution_count": 1331,
   "metadata": {},
   "outputs": [],
   "source": [
    "df_loan = ss.read.csv(\"data/loan.csv\",sep=';', inferSchema=False, header=True)"
   ]
  },
  {
   "cell_type": "code",
   "execution_count": 1332,
   "metadata": {},
   "outputs": [],
   "source": [
    "df_loan_cast = df_loan \\\n",
    "    .withColumn(\"loan_id\", df_loan[\"loan_id\"].cast(\"int\")) \\\n",
    "    .withColumn(\"account_id\", df_loan[\"account_id\"].cast(\"int\")) \\\n",
    "    .withColumn(\"amount\", df_loan[\"amount\"].cast(\"int\")) \\\n",
    "    .withColumn(\"duration\", df_loan[\"duration\"].cast(\"int\")) \\\n",
    "    .withColumn(\"payments\", df_loan[\"payments\"].cast(\"float\"))"
   ]
  },
  {
   "cell_type": "code",
   "execution_count": 1333,
   "metadata": {},
   "outputs": [
    {
     "name": "stdout",
     "output_type": "stream",
     "text": [
      "+-------+----------+----------+------+--------+--------+------+\n",
      "|loan_id|account_id|      date|amount|duration|payments|status|\n",
      "+-------+----------+----------+------+--------+--------+------+\n",
      "|   4959|         2|1994-01-05| 80952|      24|  3373.0|     A|\n",
      "|   4961|        19|1996-04-29| 30276|      12|  2523.0|     B|\n",
      "|   4962|        25|1997-12-08| 30276|      12|  2523.0|     A|\n",
      "|   4967|        37|1998-10-14|318480|      60|  5308.0|     D|\n",
      "|   4968|        38|1998-04-19|110736|      48|  2307.0|     C|\n",
      "+-------+----------+----------+------+--------+--------+------+\n",
      "only showing top 5 rows\n",
      "\n"
     ]
    }
   ],
   "source": [
    "df_loan_cast.show(5)"
   ]
  },
  {
   "cell_type": "code",
   "execution_count": 1334,
   "metadata": {},
   "outputs": [],
   "source": [
    "df_order = ss.read.csv(\"data/order.csv\", sep=';', inferSchema=False, header=True)"
   ]
  },
  {
   "cell_type": "code",
   "execution_count": 1335,
   "metadata": {},
   "outputs": [],
   "source": [
    "df_order_cast = df_order \\\n",
    "    .withColumn(\"order_id\", df_order[\"order_id\"].cast(\"int\")) \\\n",
    "    .withColumn(\"account_id\", df_order[\"account_id\"].cast(\"int\")) \\\n",
    "    .withColumn(\"account_to\", df_order[\"account_to\"].cast(\"int\")) \\\n",
    "    .withColumn(\"amount\", df_order[\"amount\"].cast(\"float\"))"
   ]
  },
  {
   "cell_type": "code",
   "execution_count": 1336,
   "metadata": {},
   "outputs": [
    {
     "name": "stdout",
     "output_type": "stream",
     "text": [
      "+--------+----------+-------+----------+------+--------+\n",
      "|order_id|account_id|bank_to|account_to|amount|k_symbol|\n",
      "+--------+----------+-------+----------+------+--------+\n",
      "|   29401|         1|     YZ|  87144583|2452.0|    SIPO|\n",
      "|   29402|         2|     ST|  89597016|3372.7|    UVER|\n",
      "|   29403|         2|     QR|  13943797|7266.0|    SIPO|\n",
      "|   29404|         3|     WX|  83084338|1135.0|    SIPO|\n",
      "|   29405|         3|     CD|  24485939| 327.0|    null|\n",
      "+--------+----------+-------+----------+------+--------+\n",
      "only showing top 5 rows\n",
      "\n"
     ]
    }
   ],
   "source": [
    "df_order.show(5)"
   ]
  },
  {
   "cell_type": "code",
   "execution_count": 1337,
   "metadata": {},
   "outputs": [],
   "source": [
    "df_district = ss.read.csv(\"data/district.csv\", sep=';', inferSchema=False, header=True)"
   ]
  },
  {
   "cell_type": "code",
   "execution_count": 1338,
   "metadata": {},
   "outputs": [],
   "source": [
    "df_district_cast = df_district \\\n",
    "    .withColumn(\"district_id\", df_district[\"district_id\"].cast(\"int\")) \\\n",
    "    .withColumn(\"A4\", df_district[\"A4\"].cast(\"int\")) \\\n",
    "    .withColumn(\"A5\", df_district[\"A5\"].cast(\"int\")) \\\n",
    "    .withColumn(\"A6\", df_district[\"A6\"].cast(\"int\")) \\\n",
    "    .withColumn(\"A7\", df_district[\"A7\"].cast(\"int\")) \\\n",
    "    .withColumn(\"A8\", df_district[\"A8\"].cast(\"int\")) \\\n",
    "    .withColumn(\"A9\", df_district[\"A9\"].cast(\"int\")) \\\n",
    "    .withColumn(\"A11\", df_district[\"A11\"].cast(\"int\")) \\\n",
    "    .withColumn(\"A14\", df_district[\"A14\"].cast(\"int\")) \\\n",
    "    .withColumn(\"A15\", df_district[\"A15\"].cast(\"int\")) \\\n",
    "    .withColumn(\"A16\", df_district[\"A16\"].cast(\"int\")) \\\n",
    "    .withColumn(\"A10\", df_district[\"A10\"].cast(\"float\")) \\\n",
    "    .withColumn(\"A12\", df_district[\"A12\"].cast(\"float\")) \\\n",
    "    .withColumn(\"A13\", df_district[\"A13\"].cast(\"float\"))"
   ]
  },
  {
   "cell_type": "code",
   "execution_count": 1339,
   "metadata": {},
   "outputs": [
    {
     "name": "stdout",
     "output_type": "stream",
     "text": [
      "+-----------+-----------+---------------+-------+---+---+---+---+---+-----+-----+---+----+---+-----+-----+\n",
      "|district_id|         A2|             A3|     A4| A5| A6| A7| A8| A9|  A10|  A11|A12| A13|A14|  A15|  A16|\n",
      "+-----------+-----------+---------------+-------+---+---+---+---+---+-----+-----+---+----+---+-----+-----+\n",
      "|          1|Hl.m. Praha|         Prague|1204953|  0|  0|  0|  1|  1|100.0|12541|0.2|0.43|167|85677|99107|\n",
      "|          2|    Benesov|central Bohemia|  88884| 80| 26|  6|  2|  5| 46.7| 8507|1.6|1.85|132| 2159| 2674|\n",
      "|          3|     Beroun|central Bohemia|  75232| 55| 26|  4|  1|  5| 41.7| 8980|1.9|2.21|111| 2824| 2813|\n",
      "|          4|     Kladno|central Bohemia| 149893| 63| 29|  6|  2|  6| 67.4| 9753|4.6|5.05|109| 5244| 5892|\n",
      "|          5|      Kolin|central Bohemia|  95616| 65| 30|  4|  1|  6| 51.4| 9307|3.8|4.43|118| 2616| 3040|\n",
      "+-----------+-----------+---------------+-------+---+---+---+---+---+-----+-----+---+----+---+-----+-----+\n",
      "only showing top 5 rows\n",
      "\n"
     ]
    }
   ],
   "source": [
    "df_district_cast.show(5)"
   ]
  },
  {
   "cell_type": "code",
   "execution_count": 1340,
   "metadata": {},
   "outputs": [],
   "source": [
    "df_account = ss.read.csv(\"data/account.csv\", sep=';', inferSchema=False, header=True)"
   ]
  },
  {
   "cell_type": "code",
   "execution_count": 1341,
   "metadata": {},
   "outputs": [],
   "source": [
    "df_account_cast = df_account \\\n",
    "    .withColumn(\"account_id\", df_account[\"account_id\"].cast(\"int\")) \\\n",
    "    .withColumn(\"district_id\", df_account[\"district_id\"].cast(\"int\"))"
   ]
  },
  {
   "cell_type": "code",
   "execution_count": 1342,
   "metadata": {},
   "outputs": [
    {
     "name": "stdout",
     "output_type": "stream",
     "text": [
      "+----------+-----------+----------------+----------+\n",
      "|account_id|district_id|       frequency|      date|\n",
      "+----------+-----------+----------------+----------+\n",
      "|         1|         18|POPLATEK MESICNE|1995-03-24|\n",
      "|         2|          1|POPLATEK MESICNE|1993-02-26|\n",
      "|         3|          5|POPLATEK MESICNE|1997-07-07|\n",
      "|         4|         12|POPLATEK MESICNE|1996-02-21|\n",
      "|         5|         15|POPLATEK MESICNE|1997-05-30|\n",
      "+----------+-----------+----------------+----------+\n",
      "only showing top 5 rows\n",
      "\n"
     ]
    }
   ],
   "source": [
    "df_account_cast.show(5)"
   ]
  },
  {
   "cell_type": "code",
   "execution_count": 1343,
   "metadata": {},
   "outputs": [],
   "source": [
    "df_disp = ss.read.csv(\"data/disp.csv\", sep=\";\", inferSchema=False, header=True)"
   ]
  },
  {
   "cell_type": "code",
   "execution_count": 1344,
   "metadata": {},
   "outputs": [],
   "source": [
    "df_disp_cast = df_disp \\\n",
    "    .withColumn(\"disp_id\", df_disp[\"disp_id\"].cast(\"int\")) \\\n",
    "    .withColumn(\"account_id\", df_disp[\"account_id\"].cast(\"int\")) \\\n",
    "    .withColumn(\"client_id\", df_disp[\"client_id\"].cast(\"int\"))"
   ]
  },
  {
   "cell_type": "code",
   "execution_count": 1345,
   "metadata": {},
   "outputs": [
    {
     "name": "stdout",
     "output_type": "stream",
     "text": [
      "+-------+---------+----------+---------+\n",
      "|disp_id|client_id|account_id|     type|\n",
      "+-------+---------+----------+---------+\n",
      "|      1|        1|         1|    OWNER|\n",
      "|      2|        2|         2|    OWNER|\n",
      "|      3|        3|         2|DISPONENT|\n",
      "|      4|        4|         3|    OWNER|\n",
      "|      5|        5|         3|DISPONENT|\n",
      "+-------+---------+----------+---------+\n",
      "only showing top 5 rows\n",
      "\n"
     ]
    }
   ],
   "source": [
    "df_disp_cast.show(5)"
   ]
  },
  {
   "cell_type": "code",
   "execution_count": 1346,
   "metadata": {},
   "outputs": [],
   "source": [
    "df_client = ss.read.csv(\"data/client.csv\", sep=\";\", inferSchema=False, header=True)"
   ]
  },
  {
   "cell_type": "code",
   "execution_count": 1347,
   "metadata": {},
   "outputs": [],
   "source": [
    "df_client_cast = df_client \\\n",
    "    .withColumn(\"client_id\", df_client[\"client_id\"].cast(\"int\")) \\\n",
    "    .withColumn(\"district_id\", df_client[\"district_id\"].cast(\"int\"))"
   ]
  },
  {
   "cell_type": "code",
   "execution_count": 1348,
   "metadata": {},
   "outputs": [
    {
     "name": "stdout",
     "output_type": "stream",
     "text": [
      "+---------+------+----------+-----------+\n",
      "|client_id|gender|birth_date|district_id|\n",
      "+---------+------+----------+-----------+\n",
      "|        1|     F|1970-12-13|         18|\n",
      "|        2|     M|1945-02-04|          1|\n",
      "|        3|     F|1940-10-09|          1|\n",
      "|        4|     M|1956-12-01|          5|\n",
      "|        5|     F|1960-07-03|          5|\n",
      "+---------+------+----------+-----------+\n",
      "only showing top 5 rows\n",
      "\n"
     ]
    }
   ],
   "source": [
    "df_client_cast.show(5)"
   ]
  },
  {
   "cell_type": "code",
   "execution_count": 1349,
   "metadata": {},
   "outputs": [],
   "source": [
    "df_card = ss.read.csv(\"data/card.csv\", sep=\";\", inferSchema=False, header=True)"
   ]
  },
  {
   "cell_type": "code",
   "execution_count": 1350,
   "metadata": {},
   "outputs": [],
   "source": [
    "df_card_cast = df_card \\\n",
    "    .withColumn(\"card_id\", df_card[\"card_id\"].cast(\"int\")) \\\n",
    "    .withColumn(\"disp_id\", df_card[\"disp_id\"].cast(\"int\"))"
   ]
  },
  {
   "cell_type": "code",
   "execution_count": 1351,
   "metadata": {},
   "outputs": [
    {
     "name": "stdout",
     "output_type": "stream",
     "text": [
      "+-------+-------+-------+----------+\n",
      "|card_id|disp_id|   type|    issued|\n",
      "+-------+-------+-------+----------+\n",
      "|      1|      9|   gold|1998-10-16|\n",
      "|      2|     19|classic|1998-03-13|\n",
      "|      3|     41|   gold|1995-09-03|\n",
      "|      4|     42|classic|1998-11-26|\n",
      "|      5|     51| junior|1995-04-24|\n",
      "+-------+-------+-------+----------+\n",
      "only showing top 5 rows\n",
      "\n"
     ]
    }
   ],
   "source": [
    "df_card_cast.show(5)"
   ]
  },
  {
   "cell_type": "markdown",
   "metadata": {},
   "source": [
    "## Analytics"
   ]
  },
  {
   "cell_type": "markdown",
   "metadata": {},
   "source": [
    "#### 1."
   ]
  },
  {
   "cell_type": "markdown",
   "metadata": {},
   "source": [
    "Look at some basic statistics of the data (mean, variance, etc.) of the “trans” table to understand it better. Create plots or visualizations of your choice (feel free to use the library you prefer. Hint: in case of Python, Matplotlib is probably best suited - in case of Scala you might want to use the Vegas library). Print and explain an aspect of your choice (that you think is interesting) in the notebook."
   ]
  },
  {
   "cell_type": "markdown",
   "metadata": {},
   "source": [
    "####  Amount basic statistics"
   ]
  },
  {
   "cell_type": "code",
   "execution_count": 1352,
   "metadata": {},
   "outputs": [
    {
     "name": "stdout",
     "output_type": "stream",
     "text": [
      "+-------+-----------------+\n",
      "|summary|           amount|\n",
      "+-------+-----------------+\n",
      "|  count|          1053269|\n",
      "|   mean|5929.523604131518|\n",
      "| stddev|9524.746862150716|\n",
      "|    min|                0|\n",
      "|    max|            87400|\n",
      "+-------+-----------------+\n",
      "\n"
     ]
    }
   ],
   "source": [
    "df_trans_cast.describe([\"amount\"]).show()"
   ]
  },
  {
   "cell_type": "markdown",
   "metadata": {},
   "source": [
    "<font color=\"green\">On average, transactions have an amount of 6K.</font>"
   ]
  },
  {
   "cell_type": "markdown",
   "metadata": {},
   "source": [
    "#### Total number of transactions over time"
   ]
  },
  {
   "cell_type": "code",
   "execution_count": 1353,
   "metadata": {},
   "outputs": [],
   "source": [
    "df_transaction_date = df_trans_cast \\\n",
    "    .groupBy('date') \\\n",
    "    .agg({'trans_id': 'count'}) \\\n",
    "    .select(\"date\",col(\"count(trans_id)\").alias(\"count\")) \\\n",
    "    .orderBy(df_trans_cast.date.asc())"
   ]
  },
  {
   "cell_type": "code",
   "execution_count": 1354,
   "metadata": {},
   "outputs": [],
   "source": [
    "df_transaction_date_pd = df_transaction_date.toPandas()"
   ]
  },
  {
   "cell_type": "code",
   "execution_count": 1355,
   "metadata": {},
   "outputs": [
    {
     "data": {
      "text/plain": [
       "<matplotlib.lines.Line2D at 0x7f0629a93590>"
      ]
     },
     "execution_count": 1355,
     "metadata": {},
     "output_type": "execute_result"
    },
    {
     "data": {
      "image/png": "[encoded data removed]",
      "text/plain": [
       "<Figure size 1440x720 with 1 Axes>"
      ]
     },
     "metadata": {
      "needs_background": "light"
     },
     "output_type": "display_data"
    }
   ],
   "source": [
    "plt.figure(figsize=(20, 10))\n",
    "ax = plt.subplot()\n",
    "myLocator = mticker.MaxNLocator(10)\n",
    "ax.xaxis.set_major_locator(myLocator)\n",
    "plt.bar(df_transaction_date_pd['date'],df_transaction_date_pd['count'])\n",
    "plt.title(\"Total number of transactions per day\")\n",
    "plt.axvline(\"1997-06-01\", c='red')\n",
    "plt.axvline(\"1997-11-01\", c='red')"
   ]
  },
  {
   "cell_type": "markdown",
   "metadata": {},
   "source": [
    "<font color=\"green\">We note:\n",
    "\n",
    "- Number of transactions per day is increasing over time\n",
    "\n",
    "- There seems to have a significant number of transactions happening twice a year</font>"
   ]
  },
  {
   "cell_type": "markdown",
   "metadata": {},
   "source": [
    "#### Total amount of transactions over time"
   ]
  },
  {
   "cell_type": "code",
   "execution_count": 1356,
   "metadata": {},
   "outputs": [],
   "source": [
    "df_amount_date = df_trans_cast \\\n",
    "    .groupBy('date') \\\n",
    "    .agg({'amount': 'sum'}) \\\n",
    "    .select(\"date\",col(\"sum(amount)\").alias(\"sum\")) \\\n",
    "    .orderBy(df_trans_cast.date.asc())"
   ]
  },
  {
   "cell_type": "code",
   "execution_count": 1357,
   "metadata": {},
   "outputs": [],
   "source": [
    "df_amount_date_pd = df_amount_date.toPandas()"
   ]
  },
  {
   "cell_type": "code",
   "execution_count": 1358,
   "metadata": {
    "scrolled": false
   },
   "outputs": [
    {
     "data": {
      "text/plain": [
       "Text(0.5, 1.0, 'Total amount of transactions on time (in millions)')"
      ]
     },
     "execution_count": 1358,
     "metadata": {},
     "output_type": "execute_result"
    },
    {
     "data": {
      "image/png": "[encoded data removed]",
      "text/plain": [
       "<Figure size 1440x720 with 1 Axes>"
      ]
     },
     "metadata": {
      "needs_background": "light"
     },
     "output_type": "display_data"
    }
   ],
   "source": [
    "plt.figure(figsize=(20, 10))\n",
    "ax = plt.subplot()\n",
    "ticks_y = mticker.FuncFormatter(lambda x, pos: int(x/1000000))\n",
    "ax.yaxis.set_major_formatter(ticks_y)\n",
    "myLocator = mticker.MaxNLocator(10)\n",
    "ax.xaxis.set_major_locator(myLocator)\n",
    "plt.bar(df_amount_date_pd['date'],df_amount_date_pd['sum'])\n",
    "plt.title(\"Total amount of transactions on time (in millions)\")"
   ]
  },
  {
   "cell_type": "markdown",
   "metadata": {},
   "source": [
    "<font color=\"green\">We note spikes happening regularly over time. We could thus think that the spikes are mostly caused by the number of transactions as seen previously.</font>"
   ]
  },
  {
   "cell_type": "markdown",
   "metadata": {},
   "source": [
    "#### 4."
   ]
  },
  {
   "cell_type": "markdown",
   "metadata": {},
   "source": [
    "Visualize the average loan amount per district."
   ]
  },
  {
   "cell_type": "code",
   "execution_count": 1359,
   "metadata": {},
   "outputs": [],
   "source": [
    "df_loan_for_ave = df_loan_cast.select(\"account_id\",\"amount\")"
   ]
  },
  {
   "cell_type": "code",
   "execution_count": 1360,
   "metadata": {},
   "outputs": [],
   "source": [
    "df_account_for_ave = df_account_cast.select(\"account_id\",\"district_id\")"
   ]
  },
  {
   "cell_type": "code",
   "execution_count": 1361,
   "metadata": {},
   "outputs": [],
   "source": [
    "df_loan_district = df_loan_for_ave \\\n",
    "    .join(df_account_for_ave, df_loan_for_ave.account_id == df_account_for_ave.account_id, 'left') \\\n",
    "    .drop(df_loan_for_ave.account_id) \\\n",
    "    .drop(df_account_for_ave.account_id)"
   ]
  },
  {
   "cell_type": "code",
   "execution_count": 1362,
   "metadata": {},
   "outputs": [],
   "source": [
    "df_loan_district_gp = df_loan_district \\\n",
    "    .groupBy('district_id') \\\n",
    "    .agg({'amount': 'avg'}) \\\n",
    "    .select(\"district_id\",col(\"avg(amount)\").alias(\"avg\"))"
   ]
  },
  {
   "cell_type": "code",
   "execution_count": 1363,
   "metadata": {},
   "outputs": [
    {
     "name": "stdout",
     "output_type": "stream",
     "text": [
      "+-----------+------------------+\n",
      "|district_id|               avg|\n",
      "+-----------+------------------+\n",
      "|         46|          294730.0|\n",
      "|         14|          251365.5|\n",
      "|          3|          243466.0|\n",
      "|         69|          242304.0|\n",
      "|          6|232886.66666666666|\n",
      "+-----------+------------------+\n",
      "only showing top 5 rows\n",
      "\n"
     ]
    }
   ],
   "source": [
    "df_loan_district_gp.sort(col(\"avg\").desc()).show(5)"
   ]
  },
  {
   "cell_type": "code",
   "execution_count": 1364,
   "metadata": {},
   "outputs": [],
   "source": [
    "df_loan_district_pd = df_loan_district_gp.toPandas()"
   ]
  },
  {
   "cell_type": "code",
   "execution_count": 1365,
   "metadata": {},
   "outputs": [
    {
     "data": {
      "text/plain": [
       "Text(0.5, 1.0, 'Loan amount per district')"
      ]
     },
     "execution_count": 1365,
     "metadata": {},
     "output_type": "execute_result"
    },
    {
     "data": {
      "image/png": "[encoded data removed]",
      "text/plain": [
       "<Figure size 1440x720 with 1 Axes>"
      ]
     },
     "metadata": {
      "needs_background": "light"
     },
     "output_type": "display_data"
    }
   ],
   "source": [
    "plt.figure(figsize=(20,10))\n",
    "plt.bar(df_loan_district_pd['district_id'],df_loan_district_pd[\"avg\"])\n",
    "plt.title(\"Loan amount per district\")"
   ]
  },
  {
   "cell_type": "code",
   "execution_count": 1366,
   "metadata": {},
   "outputs": [
    {
     "name": "stdout",
     "output_type": "stream",
     "text": [
      "+-------+------------------+\n",
      "|summary|               avg|\n",
      "+-------+------------------+\n",
      "|  count|                77|\n",
      "|   mean|148347.08592973108|\n",
      "| stddev| 43582.93184090751|\n",
      "|    min|           74262.0|\n",
      "|    max|          294730.0|\n",
      "+-------+------------------+\n",
      "\n"
     ]
    }
   ],
   "source": [
    "df_loan_district_gp.describe(\"avg\").show(5)"
   ]
  },
  {
   "cell_type": "markdown",
   "metadata": {},
   "source": [
    "<font color=\"green\">Loans are between 74K and 294K across all districts.\n",
    "\n",
    "District 46 has the highest amount.</font>"
   ]
  },
  {
   "cell_type": "markdown",
   "metadata": {},
   "source": [
    "## Credit risk prediction"
   ]
  },
  {
   "cell_type": "markdown",
   "metadata": {},
   "source": [
    "#### 5."
   ]
  },
  {
   "cell_type": "markdown",
   "metadata": {},
   "source": [
    "Build an ML model that classifies if a certain loan will be paid or not. You can use any classification model you think is suitable (hint: if you’re using Spark, there are some available out of the box with MLlib - with Python and Scikit-Learn too). Note that the goal is not to get the accuracy as high as possible – it is completely OK to choose a simple model and not spend days on parameter tuning. Think about questions like:\n",
    "\n",
    "- Which model do you choose and why?\n",
    "\n",
    "- How do you do the training and how do you measure the model accuracy?\n",
    "\n",
    "- Which are the variables contributing the most to the prediction?\n",
    "\n",
    "- How accurate does your model get? If you think a higher accuracy is possible, what would be the next steps you take?\n"
   ]
  },
  {
   "cell_type": "markdown",
   "metadata": {},
   "source": [
    "### Basic analysis"
   ]
  },
  {
   "cell_type": "markdown",
   "metadata": {},
   "source": [
    "<font color=\"green\">In this section I conducted simple analysis to understand better the data.</font>"
   ]
  },
  {
   "cell_type": "markdown",
   "metadata": {},
   "source": [
    "#### Status"
   ]
  },
  {
   "cell_type": "markdown",
   "metadata": {},
   "source": [
    "From data provider https://sorry.vse.cz/~berka/challenge/pkdd1999/berka.htm :\n",
    "\n",
    "'A' stands for contract finished, no problems,\n",
    "\n",
    "'B' stands for contract finished, loan not payed,\n",
    "\n",
    "'C' stands for running contract, OK so far,\n",
    "\n",
    "'D' stands for running contract, client in debt"
   ]
  },
  {
   "cell_type": "code",
   "execution_count": 1367,
   "metadata": {},
   "outputs": [
    {
     "data": {
      "text/plain": [
       "682"
      ]
     },
     "execution_count": 1367,
     "metadata": {},
     "output_type": "execute_result"
    }
   ],
   "source": [
    "df_loan_cast.count()"
   ]
  },
  {
   "cell_type": "code",
   "execution_count": 1368,
   "metadata": {},
   "outputs": [
    {
     "data": {
      "text/plain": [
       "45"
      ]
     },
     "execution_count": 1368,
     "metadata": {},
     "output_type": "execute_result"
    }
   ],
   "source": [
    "df_loan_cast.filter(col(\"status\")==\"D\").count()"
   ]
  },
  {
   "cell_type": "code",
   "execution_count": 1369,
   "metadata": {},
   "outputs": [],
   "source": [
    "df_loan_for_join = df_loan_cast.select(\"loan_id\",\"account_id\",\"amount\",\"status\")"
   ]
  },
  {
   "cell_type": "code",
   "execution_count": 1370,
   "metadata": {},
   "outputs": [],
   "source": [
    "status_list = ['A', 'B', 'C', 'D']\n",
    "count_status = []\n",
    "for status in status_list:\n",
    "    count_status.append(df_loan_cast.filter(col(\"status\")==status).count())"
   ]
  },
  {
   "cell_type": "code",
   "execution_count": 1371,
   "metadata": {},
   "outputs": [
    {
     "data": {
      "text/plain": [
       "Text(0.5, 1.0, 'status of loans')"
      ]
     },
     "execution_count": 1371,
     "metadata": {},
     "output_type": "execute_result"
    },
    {
     "data": {
      "image/png": "[encoded data removed]",
      "text/plain": [
       "<Figure size 720x720 with 1 Axes>"
      ]
     },
     "metadata": {},
     "output_type": "display_data"
    }
   ],
   "source": [
    "plt.figure(figsize=(10,10))\n",
    "plt.pie(count_status, labels=status_list, autopct='%0.0f%%')\n",
    "plt.legend()\n",
    "plt.title('status of loans')"
   ]
  },
  {
   "cell_type": "markdown",
   "metadata": {},
   "source": [
    "<font color=\"green\">Most clients have a running contract that is OK so far.\n",
    "\n",
    "Among the sample, 7+5=12% of the loans are missing a payment.</font>"
   ]
  },
  {
   "cell_type": "markdown",
   "metadata": {},
   "source": [
    "### Feature engineering"
   ]
  },
  {
   "cell_type": "markdown",
   "metadata": {},
   "source": [
    "<font color=\"green\">\n",
    "\n",
    "In order to predict whether a loan will be paid or not in a relevant manner, I choose to focus on the following features:\n",
    "    \n",
    "- **date** when the loan was granted\n",
    "\n",
    "- **amount** of money\n",
    "\n",
    "- **duration** of the loan\n",
    "\n",
    "- **type** of card\n",
    "    \n",
    "**Status** of paying off the loan will be used as the value to predict.\n",
    "    \n",
    "In this section I focus on operation to prepare the data for machine learning algorithms, that is:\n",
    "    \n",
    "- join\n",
    "    \n",
    "- conversion \n",
    "    \n",
    "- standardization\n",
    "\n",
    "</font>"
   ]
  },
  {
   "cell_type": "markdown",
   "metadata": {},
   "source": [
    "#### Join"
   ]
  },
  {
   "cell_type": "code",
   "execution_count": 1372,
   "metadata": {},
   "outputs": [],
   "source": [
    "df_disp_for_join = df_disp_cast.select(\"disp_id\", \"account_id\")"
   ]
  },
  {
   "cell_type": "code",
   "execution_count": 1373,
   "metadata": {},
   "outputs": [],
   "source": [
    "df_loan_disp = df_loan_cast \\\n",
    "    .join(df_disp_for_join, df_loan_cast.account_id == df_disp_for_join.account_id, 'left') \\\n",
    "    .drop(df_disp_for_join.account_id)"
   ]
  },
  {
   "cell_type": "markdown",
   "metadata": {},
   "source": [
    "<font color=\"green\">Note: since an account can have several clients (and thus several disp_id), the number of records increase. I think it makes sense to consider different records for different clients.</font>"
   ]
  },
  {
   "cell_type": "code",
   "execution_count": 1374,
   "metadata": {},
   "outputs": [],
   "source": [
    "df_card_for_join = df_card_cast.select(\"disp_id\",\"type\")"
   ]
  },
  {
   "cell_type": "code",
   "execution_count": 1375,
   "metadata": {},
   "outputs": [],
   "source": [
    "df_loan_disp_type = df_loan_disp \\\n",
    "    .join(df_card_for_join, df_loan_disp.disp_id == df_card_for_join.disp_id, 'left') \\\n",
    "    .drop(df_card_for_join.disp_id)"
   ]
  },
  {
   "cell_type": "markdown",
   "metadata": {},
   "source": [
    "#### Conversion"
   ]
  },
  {
   "cell_type": "code",
   "execution_count": 1376,
   "metadata": {},
   "outputs": [],
   "source": [
    "@udf\n",
    "def typeToInt(x):\n",
    "    if(x==\"junior\"):\n",
    "        n = 0\n",
    "    elif(x==\"classic\"):\n",
    "        n = 1\n",
    "    elif(x==\"gold\"):\n",
    "        n = 2\n",
    "    else:\n",
    "        n = -1\n",
    "    return n"
   ]
  },
  {
   "cell_type": "code",
   "execution_count": 1377,
   "metadata": {},
   "outputs": [],
   "source": [
    "@udf\n",
    "def statusToInt(x):\n",
    "    if(x==\"A\"):\n",
    "        n = 1\n",
    "    elif(x==\"B\"):\n",
    "        n = 2\n",
    "    elif(x==\"C\"):\n",
    "        n = 3\n",
    "    elif(x==\"D\"):\n",
    "        n = 4\n",
    "    else:\n",
    "        n = -1\n",
    "    return n"
   ]
  },
  {
   "cell_type": "code",
   "execution_count": 1378,
   "metadata": {},
   "outputs": [],
   "source": [
    "from pyspark.sql.functions import unix_timestamp, from_unixtime\n",
    "\n",
    "# Convert to number\n",
    "df_type_int = df_loan_disp_type \\\n",
    "    .withColumn(\"type_2\", typeToInt(\"type\")) \\\n",
    "    .withColumn(\"status_2\", statusToInt(\"status\")) \\\n",
    "    .withColumn(\"date_2\", unix_timestamp('date', 'yyy-MM-dd'))\n",
    "\n",
    "# Change column format\n",
    "df_type_cast = df_type_int \\\n",
    "    .withColumn(\"status_int\", df_type_int[\"status_2\"].cast(\"int\")) \\\n",
    "    .withColumn(\"type_int\", df_type_int[\"type_2\"].cast(\"int\")) \\\n",
    "    .withColumn(\"date_int\", df_type_int[\"date_2\"].cast(\"int\"))"
   ]
  },
  {
   "cell_type": "code",
   "execution_count": 1379,
   "metadata": {},
   "outputs": [],
   "source": [
    "df_type_na = df_type_cast \\\n",
    "    .withColumn('type_na', when(df_type_cast.type.isNull(),lit('undefined')).otherwise(df_type_cast.type)) \\\n",
    "    .drop(\"type\",\"type_2\", \"status_2\", \"date_2\")"
   ]
  },
  {
   "cell_type": "markdown",
   "metadata": {},
   "source": [
    "#### Standardization"
   ]
  },
  {
   "cell_type": "code",
   "execution_count": 1380,
   "metadata": {},
   "outputs": [],
   "source": [
    "df_type_scaled = df_type_na\n",
    "\n",
    "unlist = udf(lambda x: round(float(list(x)[0]),3), DoubleType()) # convert column type from vector to double type\n",
    "\n",
    "for colName in [\"amount\", \"type_int\", \"date_int\", \"duration\"]:\n",
    "    assembler = VectorAssembler(inputCols=[colName],outputCol=colName+\"_vect\") # convert to vector type\n",
    "\n",
    "    scaler = MinMaxScaler(inputCol=colName+\"_vect\", outputCol=colName+\"_scaled\")\n",
    "\n",
    "    pipeline = Pipeline(stages=[assembler, scaler])\n",
    "    \n",
    "    df_type_scaled = pipeline \\\n",
    "        .fit(df_type_scaled) \\\n",
    "        .transform(df_type_scaled) \\\n",
    "        .withColumn(colName+\"_scaled\", unlist(colName+\"_scaled\")) \\\n",
    "        .drop(colName+\"_vect\")"
   ]
  },
  {
   "cell_type": "code",
   "execution_count": 1381,
   "metadata": {},
   "outputs": [],
   "source": [
    "df_type_scaled_pd = df_type_scaled.toPandas()"
   ]
  },
  {
   "cell_type": "code",
   "execution_count": 1382,
   "metadata": {},
   "outputs": [
    {
     "data": {
      "text/html": [
       "<div>\n",
       "<style scoped>\n",
       "    .dataframe tbody tr th:only-of-type {\n",
       "        vertical-align: middle;\n",
       "    }\n",
       "\n",
       "    .dataframe tbody tr th {\n",
       "        vertical-align: top;\n",
       "    }\n",
       "\n",
       "    .dataframe thead th {\n",
       "        text-align: right;\n",
       "    }\n",
       "</style>\n",
       "<table border=\"1\" class=\"dataframe\">\n",
       "  <thead>\n",
       "    <tr style=\"text-align: right;\">\n",
       "      <th></th>\n",
       "      <th>loan_id</th>\n",
       "      <th>account_id</th>\n",
       "      <th>date</th>\n",
       "      <th>amount</th>\n",
       "      <th>duration</th>\n",
       "      <th>payments</th>\n",
       "      <th>status</th>\n",
       "      <th>disp_id</th>\n",
       "      <th>status_int</th>\n",
       "      <th>type_int</th>\n",
       "      <th>date_int</th>\n",
       "      <th>type_na</th>\n",
       "      <th>amount_scaled</th>\n",
       "      <th>type_int_scaled</th>\n",
       "      <th>date_int_scaled</th>\n",
       "      <th>duration_scaled</th>\n",
       "    </tr>\n",
       "  </thead>\n",
       "  <tbody>\n",
       "    <tr>\n",
       "      <th>0</th>\n",
       "      <td>4959</td>\n",
       "      <td>2</td>\n",
       "      <td>1994-01-05</td>\n",
       "      <td>80952</td>\n",
       "      <td>24</td>\n",
       "      <td>3373.0</td>\n",
       "      <td>A</td>\n",
       "      <td>3</td>\n",
       "      <td>1</td>\n",
       "      <td>-1</td>\n",
       "      <td>757728000</td>\n",
       "      <td>undefined</td>\n",
       "      <td>0.130</td>\n",
       "      <td>0.000</td>\n",
       "      <td>0.093</td>\n",
       "      <td>0.25</td>\n",
       "    </tr>\n",
       "    <tr>\n",
       "      <th>1</th>\n",
       "      <td>4959</td>\n",
       "      <td>2</td>\n",
       "      <td>1994-01-05</td>\n",
       "      <td>80952</td>\n",
       "      <td>24</td>\n",
       "      <td>3373.0</td>\n",
       "      <td>A</td>\n",
       "      <td>2</td>\n",
       "      <td>1</td>\n",
       "      <td>-1</td>\n",
       "      <td>757728000</td>\n",
       "      <td>undefined</td>\n",
       "      <td>0.130</td>\n",
       "      <td>0.000</td>\n",
       "      <td>0.093</td>\n",
       "      <td>0.25</td>\n",
       "    </tr>\n",
       "    <tr>\n",
       "      <th>2</th>\n",
       "      <td>4961</td>\n",
       "      <td>19</td>\n",
       "      <td>1996-04-29</td>\n",
       "      <td>30276</td>\n",
       "      <td>12</td>\n",
       "      <td>2523.0</td>\n",
       "      <td>B</td>\n",
       "      <td>25</td>\n",
       "      <td>2</td>\n",
       "      <td>-1</td>\n",
       "      <td>830736000</td>\n",
       "      <td>undefined</td>\n",
       "      <td>0.043</td>\n",
       "      <td>0.000</td>\n",
       "      <td>0.519</td>\n",
       "      <td>0.00</td>\n",
       "    </tr>\n",
       "    <tr>\n",
       "      <th>3</th>\n",
       "      <td>4962</td>\n",
       "      <td>25</td>\n",
       "      <td>1997-12-08</td>\n",
       "      <td>30276</td>\n",
       "      <td>12</td>\n",
       "      <td>2523.0</td>\n",
       "      <td>A</td>\n",
       "      <td>31</td>\n",
       "      <td>1</td>\n",
       "      <td>-1</td>\n",
       "      <td>881539200</td>\n",
       "      <td>undefined</td>\n",
       "      <td>0.043</td>\n",
       "      <td>0.000</td>\n",
       "      <td>0.816</td>\n",
       "      <td>0.00</td>\n",
       "    </tr>\n",
       "    <tr>\n",
       "      <th>4</th>\n",
       "      <td>4967</td>\n",
       "      <td>37</td>\n",
       "      <td>1998-10-14</td>\n",
       "      <td>318480</td>\n",
       "      <td>60</td>\n",
       "      <td>5308.0</td>\n",
       "      <td>D</td>\n",
       "      <td>45</td>\n",
       "      <td>4</td>\n",
       "      <td>-1</td>\n",
       "      <td>908323200</td>\n",
       "      <td>undefined</td>\n",
       "      <td>0.535</td>\n",
       "      <td>0.000</td>\n",
       "      <td>0.972</td>\n",
       "      <td>1.00</td>\n",
       "    </tr>\n",
       "    <tr>\n",
       "      <th>5</th>\n",
       "      <td>4968</td>\n",
       "      <td>38</td>\n",
       "      <td>1998-04-19</td>\n",
       "      <td>110736</td>\n",
       "      <td>48</td>\n",
       "      <td>2307.0</td>\n",
       "      <td>C</td>\n",
       "      <td>46</td>\n",
       "      <td>3</td>\n",
       "      <td>-1</td>\n",
       "      <td>892944000</td>\n",
       "      <td>undefined</td>\n",
       "      <td>0.181</td>\n",
       "      <td>0.000</td>\n",
       "      <td>0.882</td>\n",
       "      <td>0.75</td>\n",
       "    </tr>\n",
       "    <tr>\n",
       "      <th>6</th>\n",
       "      <td>4973</td>\n",
       "      <td>67</td>\n",
       "      <td>1996-05-02</td>\n",
       "      <td>165960</td>\n",
       "      <td>24</td>\n",
       "      <td>6915.0</td>\n",
       "      <td>A</td>\n",
       "      <td>78</td>\n",
       "      <td>1</td>\n",
       "      <td>-1</td>\n",
       "      <td>830995200</td>\n",
       "      <td>undefined</td>\n",
       "      <td>0.275</td>\n",
       "      <td>0.000</td>\n",
       "      <td>0.521</td>\n",
       "      <td>0.25</td>\n",
       "    </tr>\n",
       "    <tr>\n",
       "      <th>7</th>\n",
       "      <td>4986</td>\n",
       "      <td>97</td>\n",
       "      <td>1997-08-10</td>\n",
       "      <td>102876</td>\n",
       "      <td>12</td>\n",
       "      <td>8573.0</td>\n",
       "      <td>A</td>\n",
       "      <td>117</td>\n",
       "      <td>1</td>\n",
       "      <td>-1</td>\n",
       "      <td>871171200</td>\n",
       "      <td>undefined</td>\n",
       "      <td>0.167</td>\n",
       "      <td>0.000</td>\n",
       "      <td>0.755</td>\n",
       "      <td>0.00</td>\n",
       "    </tr>\n",
       "    <tr>\n",
       "      <th>8</th>\n",
       "      <td>4986</td>\n",
       "      <td>97</td>\n",
       "      <td>1997-08-10</td>\n",
       "      <td>102876</td>\n",
       "      <td>12</td>\n",
       "      <td>8573.0</td>\n",
       "      <td>A</td>\n",
       "      <td>116</td>\n",
       "      <td>1</td>\n",
       "      <td>1</td>\n",
       "      <td>871171200</td>\n",
       "      <td>classic</td>\n",
       "      <td>0.167</td>\n",
       "      <td>0.667</td>\n",
       "      <td>0.755</td>\n",
       "      <td>0.00</td>\n",
       "    </tr>\n",
       "    <tr>\n",
       "      <th>9</th>\n",
       "      <td>4988</td>\n",
       "      <td>103</td>\n",
       "      <td>1997-12-06</td>\n",
       "      <td>265320</td>\n",
       "      <td>36</td>\n",
       "      <td>7370.0</td>\n",
       "      <td>D</td>\n",
       "      <td>124</td>\n",
       "      <td>4</td>\n",
       "      <td>-1</td>\n",
       "      <td>881366400</td>\n",
       "      <td>undefined</td>\n",
       "      <td>0.444</td>\n",
       "      <td>0.000</td>\n",
       "      <td>0.815</td>\n",
       "      <td>0.50</td>\n",
       "    </tr>\n",
       "  </tbody>\n",
       "</table>\n",
       "</div>"
      ],
      "text/plain": [
       "   loan_id  account_id        date  amount  duration  payments status  \\\n",
       "0     4959           2  1994-01-05   80952        24    3373.0      A   \n",
       "1     4959           2  1994-01-05   80952        24    3373.0      A   \n",
       "2     4961          19  1996-04-29   30276        12    2523.0      B   \n",
       "3     4962          25  1997-12-08   30276        12    2523.0      A   \n",
       "4     4967          37  1998-10-14  318480        60    5308.0      D   \n",
       "5     4968          38  1998-04-19  110736        48    2307.0      C   \n",
       "6     4973          67  1996-05-02  165960        24    6915.0      A   \n",
       "7     4986          97  1997-08-10  102876        12    8573.0      A   \n",
       "8     4986          97  1997-08-10  102876        12    8573.0      A   \n",
       "9     4988         103  1997-12-06  265320        36    7370.0      D   \n",
       "\n",
       "   disp_id  status_int  type_int   date_int    type_na  amount_scaled  \\\n",
       "0        3           1        -1  757728000  undefined          0.130   \n",
       "1        2           1        -1  757728000  undefined          0.130   \n",
       "2       25           2        -1  830736000  undefined          0.043   \n",
       "3       31           1        -1  881539200  undefined          0.043   \n",
       "4       45           4        -1  908323200  undefined          0.535   \n",
       "5       46           3        -1  892944000  undefined          0.181   \n",
       "6       78           1        -1  830995200  undefined          0.275   \n",
       "7      117           1        -1  871171200  undefined          0.167   \n",
       "8      116           1         1  871171200    classic          0.167   \n",
       "9      124           4        -1  881366400  undefined          0.444   \n",
       "\n",
       "   type_int_scaled  date_int_scaled  duration_scaled  \n",
       "0            0.000            0.093             0.25  \n",
       "1            0.000            0.093             0.25  \n",
       "2            0.000            0.519             0.00  \n",
       "3            0.000            0.816             0.00  \n",
       "4            0.000            0.972             1.00  \n",
       "5            0.000            0.882             0.75  \n",
       "6            0.000            0.521             0.25  \n",
       "7            0.000            0.755             0.00  \n",
       "8            0.667            0.755             0.00  \n",
       "9            0.000            0.815             0.50  "
      ]
     },
     "execution_count": 1382,
     "metadata": {},
     "output_type": "execute_result"
    }
   ],
   "source": [
    "df_type_scaled_pd.head(10)"
   ]
  },
  {
   "cell_type": "markdown",
   "metadata": {},
   "source": [
    "### Data visualization"
   ]
  },
  {
   "cell_type": "markdown",
   "metadata": {},
   "source": [
    "#### Groups by type"
   ]
  },
  {
   "cell_type": "code",
   "execution_count": 1383,
   "metadata": {},
   "outputs": [],
   "source": [
    "def show_samples(samples, labels, dico_labels, features=[0,1], feature_names=None, display_labels=True):\n",
    "    '''Display the samples in 2D'''\n",
    "    fig = plt.figure(figsize=(20,10))\n",
    "    if display_labels:\n",
    "        nb_labels = np.max(labels)\n",
    "        for j in range(nb_labels + 1):\n",
    "            nb_samples = np.sum(labels == j)\n",
    "            if nb_samples:\n",
    "                index = np.where(labels == j)[0]\n",
    "                plt.scatter(samples[index,features[0]],samples[index,features[1]],s=60, label=d[j])\n",
    "    else:\n",
    "        plt.scatter(samples[:,features[0]],samples[:,features[1]],color='gray')\n",
    "    if feature_names is not None:\n",
    "        plt.xlabel(feature_names[0])\n",
    "        plt.ylabel(feature_names[1])\n",
    "    plt.legend(loc=(0.9,0.3))\n",
    "    plt.axis('auto')\n",
    "    plt.show()"
   ]
  },
  {
   "cell_type": "code",
   "execution_count": 1384,
   "metadata": {
    "scrolled": false
   },
   "outputs": [
    {
     "data": {
      "image/png": "[encoded data removed]",
      "text/plain": [
       "<Figure size 1440x720 with 1 Axes>"
      ]
     },
     "metadata": {
      "needs_background": "light"
     },
     "output_type": "display_data"
    }
   ],
   "source": [
    "feature_names = ['amount','type']\n",
    "d = {1:\"A\", 2:\"B\", 3:\"C\", 4:\"D\"}\n",
    "show_samples(samples=np.array(df_type_scaled_pd[[\"amount_scaled\",\"type_na\"]]), \\\n",
    "             labels=np.array(df_type_scaled_pd[\"status_int\"]), dico_labels=d, \\\n",
    "             display_labels=True, feature_names=feature_names)"
   ]
  },
  {
   "cell_type": "markdown",
   "metadata": {},
   "source": [
    "<font color = \"green\">\n",
    "\n",
    "We note:\n",
    "\n",
    "- Most of the clients who cannot paid their loans do not have a card\n",
    "\n",
    "- A large proportion of contracts that finished without any issue are for lower amounts\n",
    "\n",
    "- No junior client are in debt for paying a contract\n",
    "    \n",
    "</font>"
   ]
  },
  {
   "cell_type": "markdown",
   "metadata": {},
   "source": [
    "<font color = \"green\">It confirms that using the type as a feature is relevant.</font>"
   ]
  },
  {
   "cell_type": "markdown",
   "metadata": {},
   "source": [
    "#### Dimension reduction for 2D display"
   ]
  },
  {
   "cell_type": "code",
   "execution_count": 1385,
   "metadata": {},
   "outputs": [],
   "source": [
    "X = df_type_scaled_pd[[\"amount_scaled\",\"date_int_scaled\",\"duration_scaled\",\"type_int_scaled\"]]"
   ]
  },
  {
   "cell_type": "code",
   "execution_count": 1386,
   "metadata": {},
   "outputs": [],
   "source": [
    "pca = PCA(n_components = 2, whiten = True)\n",
    "X_reduced = pca.fit_transform(X)"
   ]
  },
  {
   "cell_type": "code",
   "execution_count": 1387,
   "metadata": {},
   "outputs": [
    {
     "data": {
      "text/plain": [
       "array([0.46744466, 0.24673392])"
      ]
     },
     "execution_count": 1387,
     "metadata": {},
     "output_type": "execute_result"
    }
   ],
   "source": [
    "pca.explained_variance_ratio_"
   ]
  },
  {
   "cell_type": "markdown",
   "metadata": {},
   "source": [
    "<font color = \"green\">The dimension reduction allows us to still catch 72% of the variance.</font>"
   ]
  },
  {
   "cell_type": "code",
   "execution_count": 1388,
   "metadata": {},
   "outputs": [
    {
     "data": {
      "text/plain": [
       "[<matplotlib.lines.Line2D at 0x7f062672f110>]"
      ]
     },
     "execution_count": 1388,
     "metadata": {},
     "output_type": "execute_result"
    },
    {
     "data": {
      "image/png": "[encoded data removed]",
      "text/plain": [
       "<Figure size 1080x504 with 1 Axes>"
      ]
     },
     "metadata": {
      "needs_background": "light"
     },
     "output_type": "display_data"
    }
   ],
   "source": [
    "plt.figure(figsize=(15,7))\n",
    "plt.plot(X_reduced[:,0],X_reduced[:,1], '+')"
   ]
  },
  {
   "cell_type": "markdown",
   "metadata": {},
   "source": [
    "<font color = \"green\">We can see that the data are largely clusterizable.</font>"
   ]
  },
  {
   "cell_type": "markdown",
   "metadata": {},
   "source": [
    "##  Multiclass approach"
   ]
  },
  {
   "cell_type": "markdown",
   "metadata": {},
   "source": [
    "#### Linear Regression"
   ]
  },
  {
   "cell_type": "markdown",
   "metadata": {},
   "source": [
    "<font color = \"green\">I chose to start with one of the easiest algorithm; it's also the model I know the best so I am able to better extract information of it.</font>"
   ]
  },
  {
   "cell_type": "code",
   "execution_count": 1389,
   "metadata": {},
   "outputs": [],
   "source": [
    "X = df_type_scaled_pd[[\"amount_scaled\",\"date_int_scaled\",\"duration_scaled\",\"type_int_scaled\"]]\n",
    "Y = df_type_scaled_pd[\"status_int\"]"
   ]
  },
  {
   "cell_type": "code",
   "execution_count": 1390,
   "metadata": {},
   "outputs": [],
   "source": [
    "X2 = sm.add_constant(X)"
   ]
  },
  {
   "cell_type": "code",
   "execution_count": 1391,
   "metadata": {},
   "outputs": [
    {
     "name": "stdout",
     "output_type": "stream",
     "text": [
      "                            OLS Regression Results                            \n",
      "==============================================================================\n",
      "Dep. Variable:             status_int   R-squared:                       0.595\n",
      "Model:                            OLS   Adj. R-squared:                  0.593\n",
      "Method:                 Least Squares   F-statistic:                     302.2\n",
      "Date:                Tue, 21 Apr 2020   Prob (F-statistic):          9.20e-160\n",
      "Time:                        07:43:36   Log-Likelihood:                -787.47\n",
      "No. Observations:                 827   AIC:                             1585.\n",
      "Df Residuals:                     822   BIC:                             1609.\n",
      "Df Model:                           4                                         \n",
      "Covariance Type:            nonrobust                                         \n",
      "===================================================================================\n",
      "                      coef    std err          t      P>|t|      [0.025      0.975]\n",
      "-----------------------------------------------------------------------------------\n",
      "const               0.5488      0.062      8.913      0.000       0.428       0.670\n",
      "amount_scaled       0.0514      0.142      0.361      0.718      -0.228       0.331\n",
      "date_int_scaled     1.8688      0.083     22.639      0.000       1.707       2.031\n",
      "duration_scaled     1.4874      0.078     19.134      0.000       1.335       1.640\n",
      "type_int_scaled    -0.2317      0.080     -2.906      0.004      -0.388      -0.075\n",
      "==============================================================================\n",
      "Omnibus:                       13.156   Durbin-Watson:                   1.697\n",
      "Prob(Omnibus):                  0.001   Jarque-Bera (JB):               13.010\n",
      "Skew:                           0.280   Prob(JB):                      0.00150\n",
      "Kurtosis:                       2.745   Cond. No.                         9.14\n",
      "==============================================================================\n",
      "\n",
      "Warnings:\n",
      "[1] Standard Errors assume that the covariance matrix of the errors is correctly specified.\n"
     ]
    }
   ],
   "source": [
    "lr_sm = sm.OLS(Y,X2)\n",
    "results = lr_sm.fit()\n",
    "print(results.summary())"
   ]
  },
  {
   "cell_type": "markdown",
   "metadata": {},
   "source": [
    "<font color = \"green\">\n",
    "\n",
    "- Relationship is highly significant globally since p-value associated with Fisher stat is very low\n",
    "\n",
    "- All variables are significant expect the amount\n",
    "\n",
    "- **Date** and **Duration** are the most important factors\n",
    "\n",
    "- Type is actually not that important (contrary to what we expected in previous part)\n",
    "    \n",
    "</font>"
   ]
  },
  {
   "cell_type": "code",
   "execution_count": 1392,
   "metadata": {},
   "outputs": [],
   "source": [
    "X_train, X_test, Y_train, Y_test = train_test_split(X, Y, test_size=0.2)"
   ]
  },
  {
   "cell_type": "code",
   "execution_count": 1393,
   "metadata": {},
   "outputs": [],
   "source": [
    "clf_lr = LinearRegression()\n",
    "clf_lr = clf_lr.fit(X_train, Y_train)"
   ]
  },
  {
   "cell_type": "code",
   "execution_count": 1394,
   "metadata": {},
   "outputs": [
    {
     "data": {
      "text/plain": [
       "0.605719589380258"
      ]
     },
     "execution_count": 1394,
     "metadata": {},
     "output_type": "execute_result"
    }
   ],
   "source": [
    "clf_lr.score(X_test, Y_test)"
   ]
  },
  {
   "cell_type": "markdown",
   "metadata": {},
   "source": [
    "<font color = \"green\">First results seem to be satisfying since we want at least a result > 50%.</font>"
   ]
  },
  {
   "cell_type": "markdown",
   "metadata": {},
   "source": [
    "<font color = \"green\">Let's run a cross validation to check whether results are stable with data.</font>"
   ]
  },
  {
   "cell_type": "code",
   "execution_count": 1395,
   "metadata": {},
   "outputs": [
    {
     "data": {
      "text/plain": [
       "array([0.51917003, 0.55936348, 0.61817605, 0.62861254, 0.5698181 ])"
      ]
     },
     "execution_count": 1395,
     "metadata": {},
     "output_type": "execute_result"
    }
   ],
   "source": [
    "cross_val_score(clf_lr, X, Y, cv=5)"
   ]
  },
  {
   "cell_type": "markdown",
   "metadata": {},
   "source": [
    "<font color = \"green\">Results seem volatile but still satisfying.</font>"
   ]
  },
  {
   "cell_type": "markdown",
   "metadata": {},
   "source": [
    "#### Decision tree"
   ]
  },
  {
   "cell_type": "markdown",
   "metadata": {},
   "source": [
    "<font color = \"green\">The decision tree is a simple algorithm for non linear relations.</font>"
   ]
  },
  {
   "cell_type": "code",
   "execution_count": 1396,
   "metadata": {},
   "outputs": [],
   "source": [
    "X = df_type_scaled_pd[[\"amount_scaled\",\"date_int_scaled\",\"duration_scaled\",\"type_int_scaled\"]]\n",
    "Y = df_type_scaled_pd[\"status_int\"]"
   ]
  },
  {
   "cell_type": "code",
   "execution_count": 1397,
   "metadata": {},
   "outputs": [],
   "source": [
    "X_train, X_test, Y_train, Y_test = train_test_split(X, Y, test_size=0.2)"
   ]
  },
  {
   "cell_type": "code",
   "execution_count": 1398,
   "metadata": {},
   "outputs": [],
   "source": [
    "clf_tr = tree.DecisionTreeClassifier(random_state = 0)\n",
    "clf_tr = clf_tr.fit(X_train,Y_train)"
   ]
  },
  {
   "cell_type": "code",
   "execution_count": 1399,
   "metadata": {},
   "outputs": [
    {
     "name": "stdout",
     "output_type": "stream",
     "text": [
      "0.8554216867469879\n"
     ]
    }
   ],
   "source": [
    "print(clf_tr.score(X_test, Y_test))"
   ]
  },
  {
   "cell_type": "markdown",
   "metadata": {},
   "source": [
    "<font color = \"green\">Result is quite high.</font>"
   ]
  },
  {
   "cell_type": "code",
   "execution_count": 1400,
   "metadata": {},
   "outputs": [
    {
     "data": {
      "text/plain": [
       "15"
      ]
     },
     "execution_count": 1400,
     "metadata": {},
     "output_type": "execute_result"
    }
   ],
   "source": [
    "clf_tr.get_depth()"
   ]
  },
  {
   "cell_type": "code",
   "execution_count": 1401,
   "metadata": {},
   "outputs": [
    {
     "data": {
      "text/plain": [
       "array([0.13637863, 0.45521589, 0.39612627, 0.01227921])"
      ]
     },
     "execution_count": 1401,
     "metadata": {},
     "output_type": "execute_result"
    }
   ],
   "source": [
    "clf_tr.feature_importances_"
   ]
  },
  {
   "cell_type": "markdown",
   "metadata": {},
   "source": [
    "<font color = \"green\">**Date** and **Duration** are the most important features => in line with the Linear Regression</font>"
   ]
  },
  {
   "cell_type": "code",
   "execution_count": 1402,
   "metadata": {},
   "outputs": [],
   "source": [
    "tree.export_graphviz(clf_tr, out_file=\"TreeScigility.dot\", filled=True)"
   ]
  },
  {
   "cell_type": "markdown",
   "metadata": {},
   "source": [
    "(Picture displayed using http://viz-js.com/)"
   ]
  },
  {
   "cell_type": "markdown",
   "metadata": {},
   "source": [
    "<img src = \"img/Tree.png\"></img>"
   ]
  },
  {
   "cell_type": "markdown",
   "metadata": {},
   "source": [
    "<font color = \"green\">The depth is too high to have a good interpretability.</font>"
   ]
  },
  {
   "cell_type": "markdown",
   "metadata": {},
   "source": [
    "#### AdaBoost (Boosting)"
   ]
  },
  {
   "cell_type": "markdown",
   "metadata": {},
   "source": [
    "<font color=\"green\">Boosting methods may be well adapted with such few data as we won't be penalised by the computational time.</font>"
   ]
  },
  {
   "cell_type": "code",
   "execution_count": 1403,
   "metadata": {},
   "outputs": [],
   "source": [
    "X = df_type_scaled_pd[[\"amount_scaled\",\"date_int_scaled\",\"duration_scaled\",\"type_int_scaled\"]]\n",
    "Y = df_type_scaled_pd[\"status_int\"]"
   ]
  },
  {
   "cell_type": "code",
   "execution_count": 1404,
   "metadata": {},
   "outputs": [],
   "source": [
    "X_train, X_test, Y_train, Y_test = train_test_split(X, Y, test_size=0.2)"
   ]
  },
  {
   "cell_type": "code",
   "execution_count": 1405,
   "metadata": {},
   "outputs": [
    {
     "data": {
      "text/plain": [
       "0.6867469879518072"
      ]
     },
     "execution_count": 1405,
     "metadata": {},
     "output_type": "execute_result"
    }
   ],
   "source": [
    "clf_adb = AdaBoostClassifier()\n",
    "clf_adb.fit(X_train, Y_train)\n",
    "clf_adb.score(X_test, Y_test)"
   ]
  },
  {
   "cell_type": "markdown",
   "metadata": {},
   "source": [
    "#### KNN"
   ]
  },
  {
   "cell_type": "markdown",
   "metadata": {},
   "source": [
    "<font color=\"green\">KNN is well adapted for our case since we were able to identify clusters in the data.</font>"
   ]
  },
  {
   "cell_type": "code",
   "execution_count": 1406,
   "metadata": {},
   "outputs": [],
   "source": [
    "X = df_type_scaled_pd[[\"amount_scaled\",\"date_int_scaled\",\"duration_scaled\",\"type_int_scaled\"]]\n",
    "Y = df_type_scaled_pd[\"status_int\"]"
   ]
  },
  {
   "cell_type": "code",
   "execution_count": 1407,
   "metadata": {},
   "outputs": [],
   "source": [
    "X_train, X_test, Y_train, Y_test = train_test_split(X, Y, test_size=0.2)"
   ]
  },
  {
   "cell_type": "code",
   "execution_count": 1408,
   "metadata": {},
   "outputs": [
    {
     "data": {
      "text/plain": [
       "KNeighborsClassifier(algorithm='auto', leaf_size=30, metric='minkowski',\n",
       "                     metric_params=None, n_jobs=None, n_neighbors=7, p=2,\n",
       "                     weights='uniform')"
      ]
     },
     "execution_count": 1408,
     "metadata": {},
     "output_type": "execute_result"
    }
   ],
   "source": [
    "clf_kn = KNeighborsClassifier(n_neighbors=7)\n",
    "clf_kn.fit(X_train, Y_train)"
   ]
  },
  {
   "cell_type": "code",
   "execution_count": 1409,
   "metadata": {},
   "outputs": [
    {
     "data": {
      "text/plain": [
       "0.8795180722891566"
      ]
     },
     "execution_count": 1409,
     "metadata": {},
     "output_type": "execute_result"
    }
   ],
   "source": [
    "clf_kn.score(X_test, Y_test)"
   ]
  },
  {
   "cell_type": "markdown",
   "metadata": {},
   "source": [
    "### Binary prediction"
   ]
  },
  {
   "cell_type": "code",
   "execution_count": 1410,
   "metadata": {},
   "outputs": [
    {
     "data": {
      "text/html": [
       "<div>\n",
       "<style scoped>\n",
       "    .dataframe tbody tr th:only-of-type {\n",
       "        vertical-align: middle;\n",
       "    }\n",
       "\n",
       "    .dataframe tbody tr th {\n",
       "        vertical-align: top;\n",
       "    }\n",
       "\n",
       "    .dataframe thead th {\n",
       "        text-align: right;\n",
       "    }\n",
       "</style>\n",
       "<table border=\"1\" class=\"dataframe\">\n",
       "  <thead>\n",
       "    <tr style=\"text-align: right;\">\n",
       "      <th></th>\n",
       "      <th>loan_id</th>\n",
       "      <th>account_id</th>\n",
       "      <th>date</th>\n",
       "      <th>amount</th>\n",
       "      <th>duration</th>\n",
       "      <th>payments</th>\n",
       "      <th>status</th>\n",
       "      <th>disp_id</th>\n",
       "      <th>status_int</th>\n",
       "      <th>type_int</th>\n",
       "      <th>date_int</th>\n",
       "      <th>type_na</th>\n",
       "      <th>amount_scaled</th>\n",
       "      <th>type_int_scaled</th>\n",
       "      <th>date_int_scaled</th>\n",
       "      <th>duration_scaled</th>\n",
       "    </tr>\n",
       "  </thead>\n",
       "  <tbody>\n",
       "    <tr>\n",
       "      <th>0</th>\n",
       "      <td>4959</td>\n",
       "      <td>2</td>\n",
       "      <td>1994-01-05</td>\n",
       "      <td>80952</td>\n",
       "      <td>24</td>\n",
       "      <td>3373.0</td>\n",
       "      <td>A</td>\n",
       "      <td>3</td>\n",
       "      <td>1</td>\n",
       "      <td>-1</td>\n",
       "      <td>757728000</td>\n",
       "      <td>undefined</td>\n",
       "      <td>0.130</td>\n",
       "      <td>0.0</td>\n",
       "      <td>0.093</td>\n",
       "      <td>0.25</td>\n",
       "    </tr>\n",
       "    <tr>\n",
       "      <th>1</th>\n",
       "      <td>4959</td>\n",
       "      <td>2</td>\n",
       "      <td>1994-01-05</td>\n",
       "      <td>80952</td>\n",
       "      <td>24</td>\n",
       "      <td>3373.0</td>\n",
       "      <td>A</td>\n",
       "      <td>2</td>\n",
       "      <td>1</td>\n",
       "      <td>-1</td>\n",
       "      <td>757728000</td>\n",
       "      <td>undefined</td>\n",
       "      <td>0.130</td>\n",
       "      <td>0.0</td>\n",
       "      <td>0.093</td>\n",
       "      <td>0.25</td>\n",
       "    </tr>\n",
       "    <tr>\n",
       "      <th>2</th>\n",
       "      <td>4961</td>\n",
       "      <td>19</td>\n",
       "      <td>1996-04-29</td>\n",
       "      <td>30276</td>\n",
       "      <td>12</td>\n",
       "      <td>2523.0</td>\n",
       "      <td>B</td>\n",
       "      <td>25</td>\n",
       "      <td>2</td>\n",
       "      <td>-1</td>\n",
       "      <td>830736000</td>\n",
       "      <td>undefined</td>\n",
       "      <td>0.043</td>\n",
       "      <td>0.0</td>\n",
       "      <td>0.519</td>\n",
       "      <td>0.00</td>\n",
       "    </tr>\n",
       "    <tr>\n",
       "      <th>3</th>\n",
       "      <td>4962</td>\n",
       "      <td>25</td>\n",
       "      <td>1997-12-08</td>\n",
       "      <td>30276</td>\n",
       "      <td>12</td>\n",
       "      <td>2523.0</td>\n",
       "      <td>A</td>\n",
       "      <td>31</td>\n",
       "      <td>1</td>\n",
       "      <td>-1</td>\n",
       "      <td>881539200</td>\n",
       "      <td>undefined</td>\n",
       "      <td>0.043</td>\n",
       "      <td>0.0</td>\n",
       "      <td>0.816</td>\n",
       "      <td>0.00</td>\n",
       "    </tr>\n",
       "    <tr>\n",
       "      <th>4</th>\n",
       "      <td>4967</td>\n",
       "      <td>37</td>\n",
       "      <td>1998-10-14</td>\n",
       "      <td>318480</td>\n",
       "      <td>60</td>\n",
       "      <td>5308.0</td>\n",
       "      <td>D</td>\n",
       "      <td>45</td>\n",
       "      <td>4</td>\n",
       "      <td>-1</td>\n",
       "      <td>908323200</td>\n",
       "      <td>undefined</td>\n",
       "      <td>0.535</td>\n",
       "      <td>0.0</td>\n",
       "      <td>0.972</td>\n",
       "      <td>1.00</td>\n",
       "    </tr>\n",
       "  </tbody>\n",
       "</table>\n",
       "</div>"
      ],
      "text/plain": [
       "   loan_id  account_id        date  amount  duration  payments status  \\\n",
       "0     4959           2  1994-01-05   80952        24    3373.0      A   \n",
       "1     4959           2  1994-01-05   80952        24    3373.0      A   \n",
       "2     4961          19  1996-04-29   30276        12    2523.0      B   \n",
       "3     4962          25  1997-12-08   30276        12    2523.0      A   \n",
       "4     4967          37  1998-10-14  318480        60    5308.0      D   \n",
       "\n",
       "   disp_id  status_int  type_int   date_int    type_na  amount_scaled  \\\n",
       "0        3           1        -1  757728000  undefined          0.130   \n",
       "1        2           1        -1  757728000  undefined          0.130   \n",
       "2       25           2        -1  830736000  undefined          0.043   \n",
       "3       31           1        -1  881539200  undefined          0.043   \n",
       "4       45           4        -1  908323200  undefined          0.535   \n",
       "\n",
       "   type_int_scaled  date_int_scaled  duration_scaled  \n",
       "0              0.0            0.093             0.25  \n",
       "1              0.0            0.093             0.25  \n",
       "2              0.0            0.519             0.00  \n",
       "3              0.0            0.816             0.00  \n",
       "4              0.0            0.972             1.00  "
      ]
     },
     "execution_count": 1410,
     "metadata": {},
     "output_type": "execute_result"
    }
   ],
   "source": [
    "df_type_scaled_pd.head()"
   ]
  },
  {
   "cell_type": "code",
   "execution_count": 1411,
   "metadata": {},
   "outputs": [],
   "source": [
    "df_type_scaled_pd['status_bin'] = np.where(df_type_scaled_pd['status'] == \"D\", 0, 1)"
   ]
  },
  {
   "cell_type": "markdown",
   "metadata": {},
   "source": [
    "#### Linear regression"
   ]
  },
  {
   "cell_type": "code",
   "execution_count": 1492,
   "metadata": {},
   "outputs": [],
   "source": [
    "X = df_type_scaled_pd[[\"amount_scaled\",\"date_int_scaled\",\"duration_scaled\",\"type_int_scaled\"]]\n",
    "Y = df_type_scaled_pd[\"status_bin\"]"
   ]
  },
  {
   "cell_type": "code",
   "execution_count": 1493,
   "metadata": {},
   "outputs": [],
   "source": [
    "X_train, X_test, Y_train, Y_test = train_test_split(X, Y, test_size=0.2)"
   ]
  },
  {
   "cell_type": "code",
   "execution_count": 1494,
   "metadata": {},
   "outputs": [],
   "source": [
    "clf_lg = LogisticRegression()\n",
    "clf_lg = clf_lg.fit(X_train,Y_train)"
   ]
  },
  {
   "cell_type": "code",
   "execution_count": 1495,
   "metadata": {},
   "outputs": [
    {
     "data": {
      "text/plain": [
       "0.9698795180722891"
      ]
     },
     "execution_count": 1495,
     "metadata": {},
     "output_type": "execute_result"
    }
   ],
   "source": [
    "clf_lg.score(X_test, Y_test)"
   ]
  },
  {
   "cell_type": "markdown",
   "metadata": {},
   "source": [
    "<font color = \"green\">Results are even better than in multiclass prediction.</font>"
   ]
  },
  {
   "cell_type": "code",
   "execution_count": 1496,
   "metadata": {},
   "outputs": [],
   "source": [
    "prob_lg = clf_lg.predict_proba(X_test)\n",
    "pred_lg = prob_lg[:,1]\n",
    "fpr_lg, tpr_lg, _ = metrics.roc_curve(Y_test, pred_lg)\n",
    "roc_auc_lg = metrics.auc(fpr_lg, tpr_lg)"
   ]
  },
  {
   "cell_type": "markdown",
   "metadata": {},
   "source": [
    "#### Decision tree"
   ]
  },
  {
   "cell_type": "code",
   "execution_count": 1487,
   "metadata": {},
   "outputs": [],
   "source": [
    "X = df_type_scaled_pd[[\"amount_scaled\",\"date_int_scaled\",\"duration_scaled\",\"type_int_scaled\"]]\n",
    "Y = df_type_scaled_pd[\"status_bin\"]"
   ]
  },
  {
   "cell_type": "code",
   "execution_count": 1488,
   "metadata": {},
   "outputs": [],
   "source": [
    "X_train, X_test, Y_train, Y_test = train_test_split(X, Y, test_size=0.2)"
   ]
  },
  {
   "cell_type": "code",
   "execution_count": 1489,
   "metadata": {},
   "outputs": [
    {
     "data": {
      "text/plain": [
       "0.6076923076923078"
      ]
     },
     "execution_count": 1489,
     "metadata": {},
     "output_type": "execute_result"
    }
   ],
   "source": [
    "clf_tr = tree.DecisionTreeClassifier()\n",
    "clf_tr = clf.fit(X_train,Y_train)\n",
    "clf_tr.score(X_test, Y_test)"
   ]
  },
  {
   "cell_type": "code",
   "execution_count": 1490,
   "metadata": {},
   "outputs": [],
   "source": [
    "prob_tr = clf_tr.predict_proba(X_test)\n",
    "pred_tr = prob_tr[:,1]\n",
    "fpr_tr, tpr_tr, _ = metrics.roc_curve(Y_test, pred_tr)\n",
    "roc_auc_tr = metrics.auc(fpr_tr, tpr_tr)"
   ]
  },
  {
   "cell_type": "markdown",
   "metadata": {},
   "source": [
    "#### AdaBoost"
   ]
  },
  {
   "cell_type": "code",
   "execution_count": 1473,
   "metadata": {},
   "outputs": [],
   "source": [
    "X = df_type_scaled_pd[[\"amount_scaled\",\"date_int_scaled\",\"duration_scaled\",\"type_int_scaled\"]]\n",
    "Y = df_type_scaled_pd[\"status_bin\"]"
   ]
  },
  {
   "cell_type": "code",
   "execution_count": 1474,
   "metadata": {},
   "outputs": [],
   "source": [
    "X_train, X_test, Y_train, Y_test = train_test_split(X, Y, test_size=0.2)"
   ]
  },
  {
   "cell_type": "code",
   "execution_count": 1475,
   "metadata": {},
   "outputs": [],
   "source": [
    "param_test = {\n",
    "            'n_estimators':[1,10,20,50,100],\n",
    "            'learning_rate':[0.1,0.2,0.3,0.5,0.8]\n",
    "    }"
   ]
  },
  {
   "cell_type": "code",
   "execution_count": 1476,
   "metadata": {},
   "outputs": [],
   "source": [
    "clf_grid = GridSearchCV(estimator = AdaBoostClassifier(), param_grid = param_test, scoring='roc_auc', cv=5)"
   ]
  },
  {
   "cell_type": "code",
   "execution_count": 1477,
   "metadata": {
    "scrolled": true
   },
   "outputs": [
    {
     "data": {
      "text/plain": [
       "GridSearchCV(cv=5, error_score=nan,\n",
       "             estimator=AdaBoostClassifier(algorithm='SAMME.R',\n",
       "                                          base_estimator=None,\n",
       "                                          learning_rate=1.0, n_estimators=50,\n",
       "                                          random_state=None),\n",
       "             iid='deprecated', n_jobs=None,\n",
       "             param_grid={'learning_rate': [0.1, 0.2, 0.3, 0.5, 0.8],\n",
       "                         'n_estimators': [1, 10, 20, 50, 100]},\n",
       "             pre_dispatch='2*n_jobs', refit=True, return_train_score=False,\n",
       "             scoring='roc_auc', verbose=0)"
      ]
     },
     "execution_count": 1477,
     "metadata": {},
     "output_type": "execute_result"
    }
   ],
   "source": [
    "clf_grid.fit(X_train, Y_train)"
   ]
  },
  {
   "cell_type": "code",
   "execution_count": 1478,
   "metadata": {},
   "outputs": [
    {
     "name": "stdout",
     "output_type": "stream",
     "text": [
      "0.7927847316704459\n",
      "{'learning_rate': 0.5, 'n_estimators': 10}\n"
     ]
    }
   ],
   "source": [
    "print(clf_grid.best_score_)\n",
    "print(clf_grid.best_params_)"
   ]
  },
  {
   "cell_type": "code",
   "execution_count": 1479,
   "metadata": {},
   "outputs": [],
   "source": [
    "clf_ab = AdaBoostClassifier(n_estimators=100, learning_rate=0.3)\n",
    "clf_ab = clf_ab.fit(X_train, Y_train)"
   ]
  },
  {
   "cell_type": "code",
   "execution_count": 1480,
   "metadata": {},
   "outputs": [],
   "source": [
    "prob_ab = clf_ab.predict_proba(X_test)\n",
    "pred_ab = prob_ab[:,1]\n",
    "fpr_ab, tpr_ab, _ = metrics.roc_curve(Y_test, pred_ab)\n",
    "roc_auc_ab = metrics.auc(fpr_ab, tpr_ab)"
   ]
  },
  {
   "cell_type": "markdown",
   "metadata": {},
   "source": [
    "#### KNN"
   ]
  },
  {
   "cell_type": "code",
   "execution_count": 1481,
   "metadata": {},
   "outputs": [],
   "source": [
    "X = df_type_scaled_pd[[\"amount_scaled\",\"date_int_scaled\",\"duration_scaled\",\"type_int_scaled\"]]\n",
    "Y = df_type_scaled_pd[\"status_bin\"]"
   ]
  },
  {
   "cell_type": "code",
   "execution_count": 1482,
   "metadata": {},
   "outputs": [],
   "source": [
    "X_train, X_test, Y_train, Y_test = train_test_split(X, Y, test_size=0.2)"
   ]
  },
  {
   "cell_type": "code",
   "execution_count": 1483,
   "metadata": {},
   "outputs": [
    {
     "data": {
      "text/plain": [
       "KNeighborsClassifier(algorithm='auto', leaf_size=30, metric='minkowski',\n",
       "                     metric_params=None, n_jobs=None, n_neighbors=7, p=2,\n",
       "                     weights='uniform')"
      ]
     },
     "execution_count": 1483,
     "metadata": {},
     "output_type": "execute_result"
    }
   ],
   "source": [
    "clf_kn = KNeighborsClassifier(n_neighbors=7)\n",
    "clf_kn.fit(X_train, Y_train)"
   ]
  },
  {
   "cell_type": "code",
   "execution_count": 1484,
   "metadata": {},
   "outputs": [
    {
     "data": {
      "text/plain": [
       "0.9457831325301205"
      ]
     },
     "execution_count": 1484,
     "metadata": {},
     "output_type": "execute_result"
    }
   ],
   "source": [
    "clf_kn.score(X_test, Y_test)"
   ]
  },
  {
   "cell_type": "markdown",
   "metadata": {},
   "source": [
    "<font color = \"green\">Still very high score.</font>"
   ]
  },
  {
   "cell_type": "code",
   "execution_count": 1485,
   "metadata": {},
   "outputs": [],
   "source": [
    "prob_kn = clf_kn.predict_proba(X_test)\n",
    "pred_kn = prob_kn[:,1]\n",
    "fpr_kn, tpr_kn, _ = metrics.roc_curve(Y_test, pred_kn)\n",
    "roc_auc_kn = metrics.auc(fpr_kn, tpr_kn)"
   ]
  },
  {
   "cell_type": "markdown",
   "metadata": {},
   "source": [
    "## Model selection"
   ]
  },
  {
   "cell_type": "code",
   "execution_count": 1497,
   "metadata": {},
   "outputs": [
    {
     "data": {
      "image/png": "[encoded data removed]",
      "text/plain": [
       "<Figure size 576x576 with 1 Axes>"
      ]
     },
     "metadata": {
      "needs_background": "light"
     },
     "output_type": "display_data"
    }
   ],
   "source": [
    "metric_models = {'log_reg':(fpr_lg, tpr_lg, roc_auc_lg),'tree':(fpr_tr, tpr_tr, roc_auc_tr), \\\n",
    "                 'adaboost':(fpr_ab, tpr_ab, roc_auc_ab), 'knn':(fpr_kn, tpr_kn, roc_auc_kn)}\n",
    "\n",
    "plt.figure(figsize=(8,8))\n",
    "for model in metric_models:\n",
    "    fpr, tpr, roc_auc = metric_models[model]\n",
    "    plt.title('Receiver Operating Characteristic')\n",
    "    plt.plot(fpr, tpr, label = model + ' AUC = %0.2f' % roc_auc)\n",
    "    plt.legend(loc = 'lower right')\n",
    "    plt.plot([0, 1], [0, 1],'r--')\n",
    "    plt.xlim([0, 1])\n",
    "    plt.ylim([0, 1])\n",
    "    plt.ylabel('True Positive Rate')\n",
    "    plt.xlabel('False Positive Rate')\n",
    "plt.show()"
   ]
  },
  {
   "cell_type": "markdown",
   "metadata": {},
   "source": [
    "### Conclusion"
   ]
  },
  {
   "cell_type": "markdown",
   "metadata": {},
   "source": [
    "<font color=\"green\">\n",
    "\n",
    "Those predictions can lead to 2 types of errors:\n",
    "\n",
    "- False positive: the model wrongly predicted that the client will pay its loan\n",
    "\n",
    "- False negative: the model wrongly predicted that the client won't pay its loan\n",
    "\n",
    "A bank would probably want to make sure the loans are indeed paid. They will thus be in favor of an algorithm that minize the first error.\n",
    "\n",
    "Thus, AdaBoost seems the best algorithm.\n",
    "\n",
    "**Limits**: explainability, computational time with more data.\n",
    "</font>"
   ]
  }
 ],
 "metadata": {
  "kernelspec": {
   "display_name": "Python 3",
   "language": "python",
   "name": "python3"
  },
  "language_info": {
   "codemirror_mode": {
    "name": "ipython",
    "version": 3
   },
   "file_extension": ".py",
   "mimetype": "text/x-python",
   "name": "python",
   "nbconvert_exporter": "python",
   "pygments_lexer": "ipython3",
   "version": "3.7.3"
  }
 },
 "nbformat": 4,
 "nbformat_minor": 4
}
